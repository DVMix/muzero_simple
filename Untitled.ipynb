{
 "cells": [
  {
   "cell_type": "code",
   "execution_count": 2,
   "id": "c5996c5d",
   "metadata": {},
   "outputs": [],
   "source": [
    "import torch\n",
    "import torch.nn as nn"
   ]
  },
  {
   "cell_type": "code",
   "execution_count": null,
   "id": "e66c916e",
   "metadata": {},
   "outputs": [],
   "source": [
    "num_blocks"
   ]
  },
  {
   "cell_type": "code",
   "execution_count": 6,
   "id": "8e23be81",
   "metadata": {},
   "outputs": [],
   "source": [
    "class Conv(nn.Module):\n",
    "    def __init__(self, in_channels, out_channels, kernel_size, activation, batch_norm):\n",
    "        super().__init__()\n",
    "        self.conv = nn.Conv2d(in_channels, out_channels, kernel_size, stride=1, padding=kernel_size // 2, bias=False)\n",
    "        self.activation = activation()\n",
    "        self.bn = batch_norm(out_channels)\n",
    "\n",
    "    def forward(self, x):\n",
    "        h = self.conv(x)\n",
    "        h = self.activation(h)\n",
    "        h = self.bn(h)\n",
    "        return h"
   ]
  },
  {
   "cell_type": "code",
   "execution_count": 7,
   "id": "bdacb3b2",
   "metadata": {},
   "outputs": [],
   "source": [
    "class Prediction(nn.Module):\n",
    "    \"\"\"\n",
    "        Policy and value prediction from inner abstract state\n",
    "    \"\"\"\n",
    "\n",
    "    def __init__(self, action_shape):\n",
    "        super().__init__()\n",
    "        self.board_size = 42\n",
    "        self.action_size = action_shape\n",
    "\n",
    "        self.global_pooling = nn.AdaptiveAvgPool2d(1)\n",
    "        self.max_pooling = nn.MaxPool2d(2)\n",
    "        modules = []\n",
    "        for idx in range(num_blocks):\n",
    "            modules.extend(\n",
    "                Conv(in_ch, out_ch, kernel_size, activation, batch_norm),\n",
    "                self.max_pooling\n",
    "            )\n",
    "        self.blocks = nn.ModuleList(modules)\n",
    "\n",
    "        hidden_state = 5\n",
    "        self.policy_importance = nn.Linear(hidden_state, 2, bias=False)\n",
    "        self.policy_2 = nn.Linear(hidden_state, 2, bias=False)\n",
    "        \n",
    "    def forward(self, rp):\n",
    "        # h_p = F.relu(self.conv_p1(rp))\n",
    "        # h_p = self.conv_p2(h_p).view(-1, self.action_size)\n",
    "        #\n",
    "        # h_v = F.relu(self.conv_v(rp))\n",
    "        # h_v = self.fc_v(h_v.view(-1, self.board_size * 4))\n",
    "\n",
    "        # range of value is -1 ~ 1\n",
    "        policy = None\n",
    "        value = None\n",
    "        return F.softmax(h_p, dim=-1), torch.tanh(h_v)"
   ]
  },
  {
   "cell_type": "code",
   "execution_count": 4,
   "id": "7a3321b9",
   "metadata": {},
   "outputs": [
    {
     "ename": "NameError",
     "evalue": "name 'num_blocks' is not defined",
     "output_type": "error",
     "traceback": [
      "\u001b[1;31m---------------------------------------------------------------------------\u001b[0m",
      "\u001b[1;31mNameError\u001b[0m                                 Traceback (most recent call last)",
      "Input \u001b[1;32mIn [4]\u001b[0m, in \u001b[0;36m<cell line: 2>\u001b[1;34m()\u001b[0m\n\u001b[0;32m      1\u001b[0m x \u001b[38;5;241m=\u001b[39m torch\u001b[38;5;241m.\u001b[39mzeros(\u001b[38;5;241m1\u001b[39m, \u001b[38;5;241m1\u001b[39m, \u001b[38;5;241m512\u001b[39m, \u001b[38;5;241m512\u001b[39m)\n\u001b[1;32m----> 2\u001b[0m net \u001b[38;5;241m=\u001b[39m \u001b[43mPrediction\u001b[49m\u001b[43m(\u001b[49m\u001b[38;5;241;43m2\u001b[39;49m\u001b[43m)\u001b[49m\n\u001b[0;32m      3\u001b[0m x \u001b[38;5;241m=\u001b[39m net(x)\n\u001b[0;32m      4\u001b[0m \u001b[38;5;28mprint\u001b[39m(x)\n",
      "Input \u001b[1;32mIn [3]\u001b[0m, in \u001b[0;36mPrediction.__init__\u001b[1;34m(self, action_shape)\u001b[0m\n\u001b[0;32m     12\u001b[0m \u001b[38;5;28mself\u001b[39m\u001b[38;5;241m.\u001b[39mmax_pooling \u001b[38;5;241m=\u001b[39m nn\u001b[38;5;241m.\u001b[39mMaxPool2d(\u001b[38;5;241m2\u001b[39m)\n\u001b[0;32m     13\u001b[0m modules \u001b[38;5;241m=\u001b[39m []\n\u001b[1;32m---> 14\u001b[0m \u001b[38;5;28;01mfor\u001b[39;00m idx \u001b[38;5;129;01min\u001b[39;00m \u001b[38;5;28mrange\u001b[39m(\u001b[43mnum_blocks\u001b[49m):\n\u001b[0;32m     15\u001b[0m     modules\u001b[38;5;241m.\u001b[39mextend(\n\u001b[0;32m     16\u001b[0m         Conv(in_ch, out_ch, kernel_size, activation, batch_norm),\n\u001b[0;32m     17\u001b[0m         \u001b[38;5;28mself\u001b[39m\u001b[38;5;241m.\u001b[39mmax_pooling\n\u001b[0;32m     18\u001b[0m     )\n\u001b[0;32m     19\u001b[0m \u001b[38;5;28mself\u001b[39m\u001b[38;5;241m.\u001b[39mblocks \u001b[38;5;241m=\u001b[39m nn\u001b[38;5;241m.\u001b[39mModuleList(modules)\n",
      "\u001b[1;31mNameError\u001b[0m: name 'num_blocks' is not defined"
     ]
    }
   ],
   "source": [
    "x = torch.zeros(1, 1, 512, 512)\n",
    "net = Prediction(2)\n",
    "x = net(x)\n",
    "print(x)"
   ]
  },
  {
   "cell_type": "code",
   "execution_count": 5,
   "id": "c2eadd4c",
   "metadata": {},
   "outputs": [],
   "source": [
    "modules = []"
   ]
  },
  {
   "cell_type": "code",
   "execution_count": 10,
   "id": "fa3706ea",
   "metadata": {},
   "outputs": [],
   "source": [
    "board_size = 42\n",
    "\n",
    "global_pooling = nn.AdaptiveAvgPool2d(1)\n",
    "max_pooling = nn.MaxPool2d(2)\n",
    "modules = []\n",
    "num_blocks = 8"
   ]
  },
  {
   "cell_type": "code",
   "execution_count": null,
   "id": "3ad2ee63",
   "metadata": {},
   "outputs": [],
   "source": [
    "for idx in range(num_blocks):\n",
    "    modules.extend([\n",
    "        Conv(in_ch, out_ch, kernel_size, activation, batch_norm),\n",
    "        max_pooling\n",
    "        ]\n",
    "    )\n",
    "    blocks = nn.ModuleList(modules)\n",
    "\n",
    "    hidden_state = 5\n",
    "    policy_importance = nn.Linear(hidden_state, 2, bias=False)\n",
    "    policy_2 = nn.Linear(hidden_state, 2, bias=False)"
   ]
  }
 ],
 "metadata": {
  "kernelspec": {
   "display_name": "Python 3 (ipykernel)",
   "language": "python",
   "name": "python3"
  },
  "language_info": {
   "codemirror_mode": {
    "name": "ipython",
    "version": 3
   },
   "file_extension": ".py",
   "mimetype": "text/x-python",
   "name": "python",
   "nbconvert_exporter": "python",
   "pygments_lexer": "ipython3",
   "version": "3.9.10"
  }
 },
 "nbformat": 4,
 "nbformat_minor": 5
}
